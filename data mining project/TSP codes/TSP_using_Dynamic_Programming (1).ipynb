{
  "nbformat": 4,
  "nbformat_minor": 0,
  "metadata": {
    "colab": {
      "provenance": []
    },
    "kernelspec": {
      "name": "python3",
      "display_name": "Python 3"
    },
    "language_info": {
      "name": "python"
    }
  },
  "cells": [
    {
      "cell_type": "code",
      "execution_count": 1,
      "metadata": {
        "colab": {
          "base_uri": "https://localhost:8080/"
        },
        "id": "5wfE8V4Q_3uS",
        "outputId": "57b72d00-b02a-4865-be2a-70e55fb6d94a"
      },
      "outputs": [
        {
          "output_type": "stream",
          "name": "stdout",
          "text": [
            "The number of possible Hamiltonian cycles is: 20\n",
            "The minimum cost of the TSP tour is: 63.0\n",
            "The path of the TSP tour is: [1, 3, 5, 7, 6, 4, 2, 1]\n"
          ]
        }
      ],
      "source": [
        "#Python implementation of TSP using the Dynamic Programming Algorithm\n",
        "import numpy as np\n",
        "\n",
        "def count_hamiltonian_cycles(distance_matrix):\n",
        "    n = len(distance_matrix)\n",
        "    dp = [[0] * n for _ in range(1 << n)]\n",
        "\n",
        "    # Start from city 0\n",
        "    dp[1][0] = 1\n",
        "\n",
        "    # Count Hamiltonian cycles\n",
        "    for mask in range(1 << n):\n",
        "        for i in range(n):\n",
        "            if mask & (1 << i):\n",
        "                for j in range(n):\n",
        "                    if mask & (1 << j) and i != j and distance_matrix[j][i] != float('inf'):\n",
        "                        dp[mask][i] += dp[mask ^ (1 << i)][j]\n",
        "    final_mask = (1 << n) - 1\n",
        "    count = sum(dp[final_mask][i] for i in range(1, n) if distance_matrix[i][0] != float('inf'))\n",
        "\n",
        "    return count\n",
        "def tsp_dynamic_programming_with_path(cost):\n",
        "    n = len(cost)\n",
        "    dp = [[float('inf')] * n for _ in range(1 << n)]\n",
        "    path = [[-1] * n for _ in range(1 << n)]\n",
        "    dp[1][0] = 0\n",
        "\n",
        "    # Dynamic programming for TSP\n",
        "    for mask in range(1 << n):\n",
        "        for i in range(n):\n",
        "            if mask & (1 << i):\n",
        "                for j in range(n):\n",
        "                    if mask & (1 << j) and i != j and dp[mask][i] > dp[mask ^ (1 << i)][j] + cost[j][i]:\n",
        "                        dp[mask][i] = dp[mask ^ (1 << i)][j] + cost[j][i]\n",
        "                        path[mask][i] = j\n",
        "\n",
        "    final_mask = (1 << n) - 1\n",
        "    min_cost = float('inf')\n",
        "    last_city = -1\n",
        "\n",
        "    # Find the minimum cost to visit all cities and return to the starting city (city 1)\n",
        "    for i in range(1, n):\n",
        "        if dp[final_mask][i] + cost[i][0] < min_cost:\n",
        "            min_cost = dp[final_mask][i] + cost[i][0]\n",
        "            last_city = i\n",
        "\n",
        "    # Reconstruct the path\n",
        "    tour = []\n",
        "    mask = final_mask\n",
        "    while last_city != -1:\n",
        "        tour.append(last_city + 1)\n",
        "        temp = path[mask][last_city]\n",
        "        mask = mask ^ (1 << last_city)\n",
        "        last_city = temp\n",
        "\n",
        "    tour.reverse()\n",
        "    tour.append(1)\n",
        "\n",
        "    return min_cost, tour\n",
        "\n",
        "# Example cost matrix\n",
        "distance_matrix = np.array([\n",
        "    [0, 12, 10, float('inf'), float('inf'), float('inf'), 12],\n",
        "    [12, 0, 8, 12, float('inf'), float('inf'), float('inf')],\n",
        "    [10, 8, 0, 11, 3, float('inf'), 9],\n",
        "    [float('inf'), 12, 11, 0, 11, 10, float('inf')],\n",
        "    [float('inf'), float('inf'), 3, 11, 0, 6, 7],\n",
        "    [float('inf'), float('inf'), float('inf'), 10, 6, 0, 9],\n",
        "    [12, float('inf'), 9, float('inf'), 7, 9, 0]\n",
        "])\n",
        "# Calculate the number of Hamiltonian cycles\n",
        "num_cycles = count_hamiltonian_cycles(distance_matrix)\n",
        "# Calculate the minimum cost and path\n",
        "min_cost, tour = tsp_dynamic_programming_with_path(distance_matrix)\n",
        "# Print results\n",
        "print(f\"The number of possible Hamiltonian cycles is: {num_cycles}\")\n",
        "print(f\"The minimum cost of the TSP tour is: {min_cost}\")\n",
        "print(f\"The path of the TSP tour is: {tour}\")\n"
      ]
    }
  ]
}